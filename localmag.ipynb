{
 "cells": [
  {
   "cell_type": "markdown",
   "metadata": {},
   "source": [
    "<b>Local Magnitude Estimator</b><br>\n",
    "This Notebook is designed to demonstrate how to download a set of waveforms from stations near a catalog earthquake and use them to estimate the local magnitude.\n"
   ]
  },
  {
   "cell_type": "code",
   "execution_count": 13,
   "metadata": {},
   "outputs": [],
   "source": [
    "import os\n",
    "from math import log10\n",
    "from obspy import UTCDateTime, read, read_inventory\n",
    "from obspy.geodetics import gps2dist_azimuth\n",
    "from obspy.clients.fdsn.mass_downloader import CircularDomain, Restrictions, MassDownloader\n",
    "from obspy.clients.fdsn import Client\n",
    "client = Client(\"IRIS\")"
   ]
  },
  {
   "cell_type": "markdown",
   "metadata": {},
   "source": [
    "The following code will set the variables for the earthquake catalog search.  If a catalog event is not yet available, the values needed for future code are the origin time and the latitude and longitude.<br><br>\n",
    "In the predefined example, the values are set for a small earthquake in the Eastern Tennessee Seismic Zone.  The USGS page for this event can be found here:<br> <a href=https://earthquake.usgs.gov/earthquakes/eventpage/se60300191>https://earthquake.usgs.gov/earthquakes/eventpage/se60300191</a>"
   ]
  },
  {
   "cell_type": "code",
   "execution_count": 26,
   "metadata": {},
   "outputs": [],
   "source": [
    "catstartt = UTCDateTime(\"2020-01-01\")\n",
    "catendt = UTCDateTime(\"2020-08-15\")\n",
    "lon = -84\n",
    "lat = 36.43\n",
    "rad = 1\n",
    "cat = client.get_events(starttime=catstartt, endtime=catendt, latitude=lat, longitude=lon, maxradius=rad, minmagnitude=3)"
   ]
  },
  {
   "cell_type": "markdown",
   "metadata": {},
   "source": [
    "Printing the catalog will show the events which have been returned by the search.  Note what the catalog magnitude value is and what type it is.  The origin time is stored in a variable."
   ]
  },
  {
   "cell_type": "code",
   "execution_count": 24,
   "metadata": {},
   "outputs": [
    {
     "name": "stdout",
     "output_type": "stream",
     "text": [
      "1 Event(s) in Catalog:\n",
      "2020-01-20T19:12:11.260000Z | +36.431,  -84.027 | 3.8 Mwr\n"
     ]
    }
   ],
   "source": [
    "print(cat)"
   ]
  },
  {
   "cell_type": "markdown",
   "metadata": {},
   "source": [
    "Next we set the variables for the waveform search."
   ]
  },
  {
   "cell_type": "code",
   "execution_count": 28,
   "metadata": {},
   "outputs": [],
   "source": [
    "origint = UTCDateTime(cat[0].origins[0].time.datetime)\n",
    "wfstartt = origint - 10\n",
    "wfendt = origint + 50\n",
    "stamaxrad = 1\n",
    "domain = CircularDomain(latitude=lat, longitude=lon, minradius=0, maxradius=stamaxrad)\n",
    "restrictions = Restrictions(starttime=wfstartt, endtime=wfendt, channel_priorities=[\"HH[NE12]\", \"BH[NE12]\"], location_priorities=[\"\", \"00\", \"10\"])"
   ]
  },
  {
   "cell_type": "markdown",
   "metadata": {},
   "source": [
    "The following code performs the waveform search.  It looks for stations from many different FDSN clients, so it can take several minutes to complete.  It will produce a lot of information in pink that describes the different steps through the search process."
   ]
  },
  {
   "cell_type": "code",
   "execution_count": 6,
   "metadata": {
    "scrolled": true
   },
   "outputs": [
    {
     "name": "stderr",
     "output_type": "stream",
     "text": [
      "[2020-08-15 19:04:18,844] - obspy.clients.fdsn.mass_downloader - INFO: Initializing FDSN client(s) for BGR, EMSC, ETH, GEONET, GFZ, ICGC, INGV, IPGP, ISC, KNMI, KOERI, LMU, NCEDC, NIEP, NOA, RESIF, SCEDC, TEXNET, USGS, USP, ORFEUS, IRIS.\n",
      "[2020-08-15 19:04:20,722] - obspy.clients.fdsn.mass_downloader - INFO: Cannot use client 'ISC' as it does not have 'dataselect' and/or 'station' services.\n",
      "[2020-08-15 19:04:21,119] - obspy.clients.fdsn.mass_downloader - INFO: Cannot use client 'USGS' as it does not have 'dataselect' and/or 'station' services.\n",
      "[2020-08-15 19:04:21,165] - obspy.clients.fdsn.mass_downloader - INFO: Cannot use client 'EMSC' as it does not have 'dataselect' and/or 'station' services.\n",
      "[2020-08-15 19:04:21,480] - obspy.clients.fdsn.mass_downloader - INFO: Successfully initialized 19 client(s): BGR, ETH, GEONET, GFZ, ICGC, INGV, IPGP, KNMI, KOERI, LMU, NCEDC, NIEP, NOA, RESIF, SCEDC, TEXNET, USP, ORFEUS, IRIS.\n",
      "[2020-08-15 19:04:21,500] - obspy.clients.fdsn.mass_downloader - INFO: Total acquired or preexisting stations: 0\n",
      "[2020-08-15 19:04:21,511] - obspy.clients.fdsn.mass_downloader - INFO: Client 'BGR' - Requesting unreliable availability.\n",
      "[2020-08-15 19:04:21,859] - obspy.clients.fdsn.mass_downloader - INFO: Client 'BGR' - No data available for request.\n",
      "[2020-08-15 19:04:21,870] - obspy.clients.fdsn.mass_downloader - INFO: Client 'BGR' - No data available.\n",
      "[2020-08-15 19:04:21,880] - obspy.clients.fdsn.mass_downloader - INFO: Total acquired or preexisting stations: 0\n",
      "[2020-08-15 19:04:21,881] - obspy.clients.fdsn.mass_downloader - INFO: Client 'ETH' - Requesting unreliable availability.\n",
      "[2020-08-15 19:04:22,245] - obspy.clients.fdsn.mass_downloader - INFO: Client 'ETH' - No data available for request.\n",
      "[2020-08-15 19:04:22,258] - obspy.clients.fdsn.mass_downloader - INFO: Client 'ETH' - No data available.\n",
      "[2020-08-15 19:04:22,259] - obspy.clients.fdsn.mass_downloader - INFO: Total acquired or preexisting stations: 0\n",
      "[2020-08-15 19:04:22,267] - obspy.clients.fdsn.mass_downloader - INFO: Client 'GEONET' - Requesting unreliable availability.\n",
      "[2020-08-15 19:04:22,531] - obspy.clients.fdsn.mass_downloader - INFO: Client 'GEONET' - No data available for request.\n",
      "[2020-08-15 19:04:22,539] - obspy.clients.fdsn.mass_downloader - INFO: Client 'GEONET' - No data available.\n",
      "[2020-08-15 19:04:22,545] - obspy.clients.fdsn.mass_downloader - INFO: Total acquired or preexisting stations: 0\n",
      "[2020-08-15 19:04:22,550] - obspy.clients.fdsn.mass_downloader - INFO: Client 'GFZ' - Requesting unreliable availability.\n",
      "[2020-08-15 19:04:22,928] - obspy.clients.fdsn.mass_downloader - INFO: Client 'GFZ' - No data available for request.\n",
      "[2020-08-15 19:04:22,933] - obspy.clients.fdsn.mass_downloader - INFO: Client 'GFZ' - No data available.\n",
      "[2020-08-15 19:04:22,938] - obspy.clients.fdsn.mass_downloader - INFO: Total acquired or preexisting stations: 0\n",
      "[2020-08-15 19:04:22,941] - obspy.clients.fdsn.mass_downloader - INFO: Client 'ICGC' - Requesting unreliable availability.\n",
      "[2020-08-15 19:04:23,301] - obspy.clients.fdsn.mass_downloader - INFO: Client 'ICGC' - No data available for request.\n",
      "[2020-08-15 19:04:23,304] - obspy.clients.fdsn.mass_downloader - INFO: Client 'ICGC' - No data available.\n",
      "[2020-08-15 19:04:23,311] - obspy.clients.fdsn.mass_downloader - INFO: Total acquired or preexisting stations: 0\n",
      "[2020-08-15 19:04:23,315] - obspy.clients.fdsn.mass_downloader - INFO: Client 'INGV' - Requesting unreliable availability.\n",
      "[2020-08-15 19:04:23,775] - obspy.clients.fdsn.mass_downloader - INFO: Client 'INGV' - No data available for request.\n",
      "[2020-08-15 19:04:23,776] - obspy.clients.fdsn.mass_downloader - INFO: Client 'INGV' - No data available.\n",
      "[2020-08-15 19:04:23,784] - obspy.clients.fdsn.mass_downloader - INFO: Total acquired or preexisting stations: 0\n",
      "[2020-08-15 19:04:23,788] - obspy.clients.fdsn.mass_downloader - INFO: Client 'IPGP' - Requesting unreliable availability.\n",
      "[2020-08-15 19:04:24,104] - obspy.clients.fdsn.mass_downloader - INFO: Client 'IPGP' - No data available for request.\n",
      "[2020-08-15 19:04:24,114] - obspy.clients.fdsn.mass_downloader - INFO: Client 'IPGP' - No data available.\n",
      "[2020-08-15 19:04:24,119] - obspy.clients.fdsn.mass_downloader - INFO: Total acquired or preexisting stations: 0\n",
      "[2020-08-15 19:04:24,121] - obspy.clients.fdsn.mass_downloader - INFO: Client 'KNMI' - Requesting unreliable availability.\n",
      "[2020-08-15 19:04:24,432] - obspy.clients.fdsn.mass_downloader - INFO: Client 'KNMI' - No data available for request.\n",
      "[2020-08-15 19:04:24,437] - obspy.clients.fdsn.mass_downloader - INFO: Client 'KNMI' - No data available.\n",
      "[2020-08-15 19:04:24,448] - obspy.clients.fdsn.mass_downloader - INFO: Total acquired or preexisting stations: 0\n",
      "[2020-08-15 19:04:24,454] - obspy.clients.fdsn.mass_downloader - INFO: Client 'KOERI' - Requesting unreliable availability.\n",
      "[2020-08-15 19:04:24,785] - obspy.clients.fdsn.mass_downloader - INFO: Client 'KOERI' - No data available for request.\n",
      "[2020-08-15 19:04:24,788] - obspy.clients.fdsn.mass_downloader - INFO: Client 'KOERI' - No data available.\n",
      "[2020-08-15 19:04:24,796] - obspy.clients.fdsn.mass_downloader - INFO: Total acquired or preexisting stations: 0\n",
      "[2020-08-15 19:04:24,802] - obspy.clients.fdsn.mass_downloader - INFO: Client 'LMU' - Requesting unreliable availability.\n",
      "[2020-08-15 19:04:25,165] - obspy.clients.fdsn.mass_downloader - INFO: Client 'LMU' - No data available for request.\n",
      "[2020-08-15 19:04:25,172] - obspy.clients.fdsn.mass_downloader - INFO: Client 'LMU' - No data available.\n",
      "[2020-08-15 19:04:25,174] - obspy.clients.fdsn.mass_downloader - INFO: Total acquired or preexisting stations: 0\n",
      "[2020-08-15 19:04:25,175] - obspy.clients.fdsn.mass_downloader - INFO: Client 'NCEDC' - Requesting unreliable availability.\n",
      "[2020-08-15 19:04:58,736] - obspy.clients.fdsn.mass_downloader - INFO: Client 'NCEDC' - No data available for request.\n",
      "[2020-08-15 19:04:58,757] - obspy.clients.fdsn.mass_downloader - INFO: Client 'NCEDC' - No data available.\n",
      "[2020-08-15 19:04:58,763] - obspy.clients.fdsn.mass_downloader - INFO: Total acquired or preexisting stations: 0\n",
      "[2020-08-15 19:04:58,764] - obspy.clients.fdsn.mass_downloader - INFO: Client 'NIEP' - Requesting unreliable availability.\n",
      "[2020-08-15 19:04:59,148] - obspy.clients.fdsn.mass_downloader - INFO: Client 'NIEP' - No data available for request.\n",
      "[2020-08-15 19:04:59,155] - obspy.clients.fdsn.mass_downloader - INFO: Client 'NIEP' - No data available.\n",
      "[2020-08-15 19:04:59,165] - obspy.clients.fdsn.mass_downloader - INFO: Total acquired or preexisting stations: 0\n",
      "[2020-08-15 19:04:59,166] - obspy.clients.fdsn.mass_downloader - INFO: Client 'NOA' - Requesting unreliable availability.\n",
      "[2020-08-15 19:04:59,574] - obspy.clients.fdsn.mass_downloader - INFO: Client 'NOA' - No data available for request.\n",
      "[2020-08-15 19:04:59,582] - obspy.clients.fdsn.mass_downloader - INFO: Client 'NOA' - No data available.\n",
      "[2020-08-15 19:04:59,593] - obspy.clients.fdsn.mass_downloader - INFO: Total acquired or preexisting stations: 0\n",
      "[2020-08-15 19:04:59,603] - obspy.clients.fdsn.mass_downloader - INFO: Client 'RESIF' - Requesting reliable availability.\n",
      "[2020-08-15 19:05:00,491] - obspy.clients.fdsn.mass_downloader - INFO: Client 'RESIF' - No data available for request.\n",
      "[2020-08-15 19:05:00,516] - obspy.clients.fdsn.mass_downloader - INFO: Client 'RESIF' - No data available.\n",
      "[2020-08-15 19:05:00,520] - obspy.clients.fdsn.mass_downloader - INFO: Total acquired or preexisting stations: 0\n",
      "[2020-08-15 19:05:00,522] - obspy.clients.fdsn.mass_downloader - INFO: Client 'SCEDC' - Requesting unreliable availability.\n",
      "[2020-08-15 19:05:30,989] - obspy.clients.fdsn.mass_downloader - INFO: Client 'SCEDC' - No data available for request.\n",
      "[2020-08-15 19:05:31,000] - obspy.clients.fdsn.mass_downloader - INFO: Client 'SCEDC' - No data available.\n",
      "[2020-08-15 19:05:31,006] - obspy.clients.fdsn.mass_downloader - INFO: Total acquired or preexisting stations: 0\n",
      "[2020-08-15 19:05:31,013] - obspy.clients.fdsn.mass_downloader - INFO: Client 'TEXNET' - Requesting reliable availability.\n",
      "[2020-08-15 19:05:31,168] - obspy.clients.fdsn.mass_downloader - INFO: Client 'TEXNET' - No data available for request.\n",
      "[2020-08-15 19:05:31,179] - obspy.clients.fdsn.mass_downloader - INFO: Client 'TEXNET' - No data available.\n"
     ]
    },
    {
     "name": "stderr",
     "output_type": "stream",
     "text": [
      "[2020-08-15 19:05:31,187] - obspy.clients.fdsn.mass_downloader - INFO: Total acquired or preexisting stations: 0\n",
      "[2020-08-15 19:05:31,191] - obspy.clients.fdsn.mass_downloader - INFO: Client 'USP' - Requesting unreliable availability.\n",
      "[2020-08-15 19:05:32,030] - obspy.clients.fdsn.mass_downloader - INFO: Client 'USP' - No data available for request.\n",
      "[2020-08-15 19:05:32,047] - obspy.clients.fdsn.mass_downloader - INFO: Client 'USP' - No data available.\n",
      "[2020-08-15 19:05:32,052] - obspy.clients.fdsn.mass_downloader - INFO: Total acquired or preexisting stations: 0\n",
      "[2020-08-15 19:05:32,055] - obspy.clients.fdsn.mass_downloader - INFO: Client 'ORFEUS' - Requesting unreliable availability.\n",
      "[2020-08-15 19:05:33,094] - obspy.clients.fdsn.mass_downloader - INFO: Client 'ORFEUS' - No data available for request.\n",
      "[2020-08-15 19:05:33,096] - obspy.clients.fdsn.mass_downloader - INFO: Client 'ORFEUS' - No data available.\n",
      "[2020-08-15 19:05:33,110] - obspy.clients.fdsn.mass_downloader - INFO: Total acquired or preexisting stations: 0\n",
      "[2020-08-15 19:05:33,124] - obspy.clients.fdsn.mass_downloader - INFO: Client 'IRIS' - Requesting reliable availability.\n",
      "[2020-08-15 19:05:34,541] - obspy.clients.fdsn.mass_downloader - INFO: Client 'IRIS' - Successfully requested availability (1.42 seconds)\n",
      "[2020-08-15 19:05:34,754] - obspy.clients.fdsn.mass_downloader - INFO: Client 'IRIS' - Found 3 stations (6 channels).\n",
      "[2020-08-15 19:05:34,784] - obspy.clients.fdsn.mass_downloader - INFO: Client 'IRIS' - Will attempt to download data from 3 stations.\n",
      "[2020-08-15 19:05:34,798] - obspy.clients.fdsn.mass_downloader - INFO: Client 'IRIS' - Status for 6 time intervals/channels before downloading: EXISTS\n",
      "[2020-08-15 19:05:34,838] - obspy.clients.fdsn.mass_downloader - INFO: Client 'IRIS' - No station information to download.\n",
      "[2020-08-15 19:05:34,866] - obspy.clients.fdsn.mass_downloader - INFO: ============================== Final report\n",
      "[2020-08-15 19:05:34,869] - obspy.clients.fdsn.mass_downloader - INFO: 6 MiniSEED files [0.2 MB] already existed.\n",
      "[2020-08-15 19:05:34,873] - obspy.clients.fdsn.mass_downloader - INFO: 3 StationXML files [0.1 MB] already existed.\n",
      "[2020-08-15 19:05:34,878] - obspy.clients.fdsn.mass_downloader - INFO: Client 'BGR' - Acquired 0 MiniSEED files [0.0 MB].\n",
      "[2020-08-15 19:05:34,889] - obspy.clients.fdsn.mass_downloader - INFO: Client 'BGR' - Acquired 0 StationXML files [0.0 MB].\n",
      "[2020-08-15 19:05:34,893] - obspy.clients.fdsn.mass_downloader - INFO: Client 'ETH' - Acquired 0 MiniSEED files [0.0 MB].\n",
      "[2020-08-15 19:05:34,898] - obspy.clients.fdsn.mass_downloader - INFO: Client 'ETH' - Acquired 0 StationXML files [0.0 MB].\n",
      "[2020-08-15 19:05:34,899] - obspy.clients.fdsn.mass_downloader - INFO: Client 'RESIF' - Acquired 0 MiniSEED files [0.0 MB].\n",
      "[2020-08-15 19:05:34,908] - obspy.clients.fdsn.mass_downloader - INFO: Client 'RESIF' - Acquired 0 StationXML files [0.0 MB].\n",
      "[2020-08-15 19:05:34,909] - obspy.clients.fdsn.mass_downloader - INFO: Client 'IRIS' - Acquired 0 MiniSEED files [0.0 MB].\n",
      "[2020-08-15 19:05:34,916] - obspy.clients.fdsn.mass_downloader - INFO: Client 'IRIS' - Acquired 0 StationXML files [0.0 MB].\n",
      "[2020-08-15 19:05:34,917] - obspy.clients.fdsn.mass_downloader - INFO: Client 'KOERI' - Acquired 0 MiniSEED files [0.0 MB].\n",
      "[2020-08-15 19:05:34,933] - obspy.clients.fdsn.mass_downloader - INFO: Client 'KOERI' - Acquired 0 StationXML files [0.0 MB].\n",
      "[2020-08-15 19:05:34,935] - obspy.clients.fdsn.mass_downloader - INFO: Client 'IPGP' - Acquired 0 MiniSEED files [0.0 MB].\n",
      "[2020-08-15 19:05:34,939] - obspy.clients.fdsn.mass_downloader - INFO: Client 'IPGP' - Acquired 0 StationXML files [0.0 MB].\n",
      "[2020-08-15 19:05:34,940] - obspy.clients.fdsn.mass_downloader - INFO: Client 'ICGC' - Acquired 0 MiniSEED files [0.0 MB].\n",
      "[2020-08-15 19:05:34,947] - obspy.clients.fdsn.mass_downloader - INFO: Client 'ICGC' - Acquired 0 StationXML files [0.0 MB].\n",
      "[2020-08-15 19:05:34,958] - obspy.clients.fdsn.mass_downloader - INFO: Client 'INGV' - Acquired 0 MiniSEED files [0.0 MB].\n",
      "[2020-08-15 19:05:34,960] - obspy.clients.fdsn.mass_downloader - INFO: Client 'INGV' - Acquired 0 StationXML files [0.0 MB].\n",
      "[2020-08-15 19:05:34,966] - obspy.clients.fdsn.mass_downloader - INFO: Client 'GEONET' - Acquired 0 MiniSEED files [0.0 MB].\n",
      "[2020-08-15 19:05:34,967] - obspy.clients.fdsn.mass_downloader - INFO: Client 'GEONET' - Acquired 0 StationXML files [0.0 MB].\n",
      "[2020-08-15 19:05:34,973] - obspy.clients.fdsn.mass_downloader - INFO: Client 'NCEDC' - Acquired 0 MiniSEED files [0.0 MB].\n",
      "[2020-08-15 19:05:34,978] - obspy.clients.fdsn.mass_downloader - INFO: Client 'NCEDC' - Acquired 0 StationXML files [0.0 MB].\n",
      "[2020-08-15 19:05:34,980] - obspy.clients.fdsn.mass_downloader - INFO: Client 'LMU' - Acquired 0 MiniSEED files [0.0 MB].\n",
      "[2020-08-15 19:05:34,990] - obspy.clients.fdsn.mass_downloader - INFO: Client 'LMU' - Acquired 0 StationXML files [0.0 MB].\n",
      "[2020-08-15 19:05:34,992] - obspy.clients.fdsn.mass_downloader - INFO: Client 'NIEP' - Acquired 0 MiniSEED files [0.0 MB].\n",
      "[2020-08-15 19:05:35,002] - obspy.clients.fdsn.mass_downloader - INFO: Client 'NIEP' - Acquired 0 StationXML files [0.0 MB].\n",
      "[2020-08-15 19:05:35,004] - obspy.clients.fdsn.mass_downloader - INFO: Client 'SCEDC' - Acquired 0 MiniSEED files [0.0 MB].\n",
      "[2020-08-15 19:05:35,007] - obspy.clients.fdsn.mass_downloader - INFO: Client 'SCEDC' - Acquired 0 StationXML files [0.0 MB].\n",
      "[2020-08-15 19:05:35,008] - obspy.clients.fdsn.mass_downloader - INFO: Client 'USP' - Acquired 0 MiniSEED files [0.0 MB].\n",
      "[2020-08-15 19:05:35,011] - obspy.clients.fdsn.mass_downloader - INFO: Client 'USP' - Acquired 0 StationXML files [0.0 MB].\n",
      "[2020-08-15 19:05:35,012] - obspy.clients.fdsn.mass_downloader - INFO: Client 'NOA' - Acquired 0 MiniSEED files [0.0 MB].\n",
      "[2020-08-15 19:05:35,023] - obspy.clients.fdsn.mass_downloader - INFO: Client 'NOA' - Acquired 0 StationXML files [0.0 MB].\n",
      "[2020-08-15 19:05:35,024] - obspy.clients.fdsn.mass_downloader - INFO: Client 'KNMI' - Acquired 0 MiniSEED files [0.0 MB].\n",
      "[2020-08-15 19:05:35,025] - obspy.clients.fdsn.mass_downloader - INFO: Client 'KNMI' - Acquired 0 StationXML files [0.0 MB].\n",
      "[2020-08-15 19:05:35,030] - obspy.clients.fdsn.mass_downloader - INFO: Client 'TEXNET' - Acquired 0 MiniSEED files [0.0 MB].\n",
      "[2020-08-15 19:05:35,034] - obspy.clients.fdsn.mass_downloader - INFO: Client 'TEXNET' - Acquired 0 StationXML files [0.0 MB].\n",
      "[2020-08-15 19:05:35,036] - obspy.clients.fdsn.mass_downloader - INFO: Client 'GFZ' - Acquired 0 MiniSEED files [0.0 MB].\n",
      "[2020-08-15 19:05:35,047] - obspy.clients.fdsn.mass_downloader - INFO: Client 'GFZ' - Acquired 0 StationXML files [0.0 MB].\n",
      "[2020-08-15 19:05:35,048] - obspy.clients.fdsn.mass_downloader - INFO: Client 'ORFEUS' - Acquired 0 MiniSEED files [0.0 MB].\n",
      "[2020-08-15 19:05:35,049] - obspy.clients.fdsn.mass_downloader - INFO: Client 'ORFEUS' - Acquired 0 StationXML files [0.0 MB].\n",
      "[2020-08-15 19:05:35,051] - obspy.clients.fdsn.mass_downloader - INFO: Downloaded 0.0 MB in total.\n"
     ]
    },
    {
     "data": {
      "text/plain": [
       "{'BGR': <obspy.clients.fdsn.mass_downloader.download_helpers.ClientDownloadHelper at 0xb4a503ac>,\n",
       " 'ETH': <obspy.clients.fdsn.mass_downloader.download_helpers.ClientDownloadHelper at 0xaa61046c>,\n",
       " 'GEONET': <obspy.clients.fdsn.mass_downloader.download_helpers.ClientDownloadHelper at 0xa8cf234c>,\n",
       " 'GFZ': <obspy.clients.fdsn.mass_downloader.download_helpers.ClientDownloadHelper at 0xa8cf23ec>,\n",
       " 'ICGC': <obspy.clients.fdsn.mass_downloader.download_helpers.ClientDownloadHelper at 0xa8d778ec>,\n",
       " 'INGV': <obspy.clients.fdsn.mass_downloader.download_helpers.ClientDownloadHelper at 0xa8c32e8c>,\n",
       " 'IPGP': <obspy.clients.fdsn.mass_downloader.download_helpers.ClientDownloadHelper at 0xb4a51f6c>,\n",
       " 'IRIS': <obspy.clients.fdsn.mass_downloader.download_helpers.ClientDownloadHelper at 0xa8dcb6ec>,\n",
       " 'KNMI': <obspy.clients.fdsn.mass_downloader.download_helpers.ClientDownloadHelper at 0xaa5f6aec>,\n",
       " 'KOERI': <obspy.clients.fdsn.mass_downloader.download_helpers.ClientDownloadHelper at 0xa8d142ac>,\n",
       " 'LMU': <obspy.clients.fdsn.mass_downloader.download_helpers.ClientDownloadHelper at 0xa8d905ec>,\n",
       " 'NCEDC': <obspy.clients.fdsn.mass_downloader.download_helpers.ClientDownloadHelper at 0xb4a5350c>,\n",
       " 'NIEP': <obspy.clients.fdsn.mass_downloader.download_helpers.ClientDownloadHelper at 0xa8d20b8c>,\n",
       " 'NOA': <obspy.clients.fdsn.mass_downloader.download_helpers.ClientDownloadHelper at 0xa8d79bac>,\n",
       " 'ORFEUS': <obspy.clients.fdsn.mass_downloader.download_helpers.ClientDownloadHelper at 0xa8d92c6c>,\n",
       " 'RESIF': <obspy.clients.fdsn.mass_downloader.download_helpers.ClientDownloadHelper at 0xa8d9320c>,\n",
       " 'SCEDC': <obspy.clients.fdsn.mass_downloader.download_helpers.ClientDownloadHelper at 0xa8c266ec>,\n",
       " 'TEXNET': <obspy.clients.fdsn.mass_downloader.download_helpers.ClientDownloadHelper at 0xa8d8148c>,\n",
       " 'USP': <obspy.clients.fdsn.mass_downloader.download_helpers.ClientDownloadHelper at 0xa8d9242c>}"
      ]
     },
     "execution_count": 6,
     "metadata": {},
     "output_type": "execute_result"
    }
   ],
   "source": [
    "mdl = MassDownloader()\n",
    "mdl.download(domain,restrictions, mseed_storage=\"waveforms\", stationxml_storage=\"stations\")"
   ]
  },
  {
   "cell_type": "markdown",
   "metadata": {},
   "source": [
    "This code loops through each of the downloaded waveforms.  It removes the instrument response using a defined pre-filter and converts to displacement.  The maximum displacement is determined, along with the distance from the event to the station.  The local magnitude is calculated using the approximate emprical formula from Bullen and Bolt (1985).  The average magnitude for each station-channel is reported at the end."
   ]
  },
  {
   "cell_type": "code",
   "execution_count": 31,
   "metadata": {},
   "outputs": [
    {
     "name": "stdout",
     "output_type": "stream",
     "text": [
      "waveforms/N4.T50A.00.HH2__20200120T191201Z__20200120T191711Z.mseed stations/N4.T50A.xml\n",
      "displacement = 4.72844085438 , distance = 97.67877404188674 , local mag = 4.09860647349545\n",
      "waveforms/N4.T50A.00.HH1__20200120T191201Z__20200120T191711Z.mseed stations/N4.T50A.xml\n",
      "displacement = 5.28454780806 , distance = 97.67877404188674 , local mag = 4.146896343668285\n",
      "waveforms/US.TZTN.00.BH1__20200120T191201Z__20200120T191711Z.mseed stations/US.TZTN.xml\n",
      "displacement = 18.5878703733 , distance = 44.62745650628028 , local mag = 3.822211101793128\n",
      "waveforms/IM.TKL..BHN__20200120T191201Z__20200120T191711Z.mseed stations/IM.TKL.xml\n",
      "displacement = 5.06964557298 , distance = 88.69248944279852 , local mag = 4.021567921256405\n",
      "waveforms/US.TZTN.00.BH2__20200120T191201Z__20200120T191711Z.mseed stations/US.TZTN.xml\n",
      "displacement = 13.1302136143 , distance = 44.62745650628028 , local mag = 3.671253258271914\n",
      "waveforms/IM.TKL..BHE__20200120T191201Z__20200120T191711Z.mseed stations/IM.TKL.xml\n",
      "displacement = 13.6071651884 , distance = 88.69248944279852 , local mag = 4.450357980155295\n",
      "\n"
     ]
    }
   ],
   "source": [
    "filt = ( 0.5, 1, 40, 50 )\n",
    "ms = 0.0\n",
    "n = 0\n",
    "for file in os.listdir(\"waveforms\"):\n",
    "    wavfile = \"waveforms/\" + file\n",
    "    stafile = \"stations/\" + file.split(\".\")[0] + \".\" + file.split(\".\")[1] + \".xml\"\n",
    "    print (wavfile, stafile)\n",
    "    st = read(wavfile)\n",
    "    tr = st[0]\n",
    "    inv = read_inventory(stafile)\n",
    "    tr.remove_response(inventory=inv, pre_filt=filt, output=\"DISP\")\n",
    "    disp = abs( tr.max() * 1e6 ) # displacement in microns\n",
    "    stalat = inv.networks[0].stations[0].latitude\n",
    "    stalon = inv.networks[0].stations[0].longitude\n",
    "    evelat = cat[0].origins[0].latitude\n",
    "    evelon = cat[0].origins[0].longitude\n",
    "    dist = gps2dist_azimuth(stalat, stalon, evelat, evelon )[0] / 1000 # distance in kilometers\n",
    "    magl = log10(disp) + 2.56 * log10(dist) - 1.67\n",
    "    print(\"displacement =\",disp,\", distance =\",dist,\", local mag =\",magl)\n",
    "    ms += magl\n",
    "    n += 1\n",
    "print ()"
   ]
  },
  {
   "cell_type": "code",
   "execution_count": null,
   "metadata": {},
   "outputs": [],
   "source": []
  }
 ],
 "metadata": {
  "kernelspec": {
   "display_name": "Python 3",
   "language": "python",
   "name": "python3"
  },
  "language_info": {
   "codemirror_mode": {
    "name": "ipython",
    "version": 3
   },
   "file_extension": ".py",
   "mimetype": "text/x-python",
   "name": "python",
   "nbconvert_exporter": "python",
   "pygments_lexer": "ipython3",
   "version": "3.5.2"
  }
 },
 "nbformat": 4,
 "nbformat_minor": 4
}
