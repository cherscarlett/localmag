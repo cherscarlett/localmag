{
 "cells": [
  {
   "cell_type": "markdown",
   "metadata": {},
   "source": [
    "<b>Local Magnitude Estimator</b><br>\n",
    "This Notebook is designed to demonstrate how to download a set of waveforms from stations near a catalog earthquake and use them to estimate the local magnitude.\n"
   ]
  },
  {
   "cell_type": "code",
   "execution_count": 1,
   "metadata": {},
   "outputs": [],
   "source": [
    "import os\n",
    "from math import log10\n",
    "from obspy import UTCDateTime, read, read_inventory\n",
    "from obspy.geodetics import gps2dist_azimuth\n",
    "from obspy.clients.fdsn.mass_downloader import CircularDomain, Restrictions, MassDownloader\n",
    "from obspy.clients.fdsn import Client\n",
    "client = Client(\"IRIS\")"
   ]
  },
  {
   "cell_type": "markdown",
   "metadata": {},
   "source": [
    "The following code will set the variables for the earthquake catalog search.  If a catalog event is not yet available, the values needed for future code are the origin time and the latitude and longitude.<br><br>\n",
    "In the predefined example, the values are set for a small earthquake in the Eastern Tennessee Seismic Zone.  The USGS page for this event can be found here:<br> <a href=https://earthquake.usgs.gov/earthquakes/eventpage/se60300191>https://earthquake.usgs.gov/earthquakes/eventpage/se60300191</a>"
   ]
  },
  {
   "cell_type": "code",
   "execution_count": 5,
   "metadata": {},
   "outputs": [],
   "source": [
    "catstartt = UTCDateTime(\"2020-01-01\")\n",
    "catendt = UTCDateTime(\"2020-08-15\")\n",
    "lon = -84\n",
    "lat = 36.43\n",
    "rad = 1 # 111.32 km\n",
    "cat = client.get_events(starttime=catstartt, endtime=catendt, latitude=lat, longitude=lon, maxradius=rad, minmagnitude=3)"
   ]
  },
  {
   "cell_type": "markdown",
   "metadata": {},
   "source": [
    "Printing the catalog will show the events which have been returned by the search.  Note what the catalog magnitude value is and what type it is.  The origin time is stored in a variable."
   ]
  },
  {
   "cell_type": "code",
   "execution_count": 6,
   "metadata": {},
   "outputs": [
    {
     "name": "stdout",
     "output_type": "stream",
     "text": [
      "1 Event(s) in Catalog:\n",
      "2020-01-20T19:12:11.260000Z | +36.431,  -84.027 | 3.8  Mwr\n"
     ]
    }
   ],
   "source": [
    "print(cat)"
   ]
  },
  {
   "cell_type": "markdown",
   "metadata": {},
   "source": [
    "Next we set the variables for the waveform search."
   ]
  },
  {
   "cell_type": "code",
   "execution_count": 8,
   "metadata": {},
   "outputs": [],
   "source": [
    "origint = UTCDateTime(cat[0].origins[0].time.datetime)\n",
    "wfstartt = origint - 10\n",
    "wfendt = origint + 50\n",
    "stamaxrad = 1 # 111.32 km\n",
    "domain = CircularDomain(latitude=lat, longitude=lon, minradius=0, maxradius=stamaxrad)\n",
    "restrictions = Restrictions(starttime=wfstartt, endtime=wfendt, channel_priorities=[\"HH[NE12]\", \"BH[NE12]\"], location_priorities=[\"\", \"00\", \"10\"])"
   ]
  },
  {
   "cell_type": "markdown",
   "metadata": {},
   "source": [
    "The following code performs the waveform search.  It looks for stations from many different FDSN clients, so it can take several minutes to complete.  It will produce a lot of information in pink that describes the different steps through the search process."
   ]
  },
  {
   "cell_type": "code",
   "execution_count": 9,
   "metadata": {
    "scrolled": true
   },
   "outputs": [
    {
     "name": "stderr",
     "output_type": "stream",
     "text": [
      "[2024-08-28 07:58:56,634] - obspy.clients.fdsn.mass_downloader - INFO: Initializing FDSN client(s) for AUSPASS, BGR, EIDA, EMSC, ETH, GEOFON, GEONET, GFZ, ICGC, IESDMC, INGV, IPGP, ISC, KNMI, KOERI, LMU, NCEDC, NIEP, NOA, RESIF, RESIFPH5, SCEDC, TEXNET, UIB-NORSAR, USGS, USP, ORFEUS, IRIS.\n",
      "[2024-08-28 07:58:56,887] - obspy.clients.fdsn.mass_downloader - WARNING: Failed to initialize client 'TEXNET'.\n",
      "[2024-08-28 07:58:57,388] - obspy.clients.fdsn.mass_downloader - INFO: Cannot use client 'USGS' as it does not have 'dataselect' and/or 'station' services.\n",
      "[2024-08-28 07:58:57,696] - obspy.clients.fdsn.mass_downloader - INFO: Cannot use client 'ISC' as it does not have 'dataselect' and/or 'station' services.\n",
      "[2024-08-28 07:58:57,849] - obspy.clients.fdsn.mass_downloader - INFO: Cannot use client 'EMSC' as it does not have 'dataselect' and/or 'station' services.\n",
      "[2024-08-28 07:58:58,586] - obspy.clients.fdsn.mass_downloader - INFO: Cannot use client 'RESIFPH5' as it does not have 'dataselect' and/or 'station' services.\n",
      "[2024-08-28 07:58:58,591] - obspy.clients.fdsn.mass_downloader - INFO: Successfully initialized 23 client(s): AUSPASS, BGR, EIDA, ETH, GEOFON, GEONET, GFZ, ICGC, IESDMC, INGV, IPGP, KNMI, KOERI, LMU, NCEDC, NIEP, NOA, RESIF, SCEDC, UIB-NORSAR, USP, ORFEUS, IRIS.\n",
      "[2024-08-28 07:58:58,594] - obspy.clients.fdsn.mass_downloader - INFO: Total acquired or preexisting stations: 0\n",
      "[2024-08-28 07:58:58,594] - obspy.clients.fdsn.mass_downloader - INFO: Client 'AUSPASS' - Requesting reliable availability.\n",
      "[2024-08-28 07:58:59,231] - obspy.clients.fdsn.mass_downloader - INFO: Client 'AUSPASS' - No data available for request.\n",
      "[2024-08-28 07:58:59,232] - obspy.clients.fdsn.mass_downloader - INFO: Client 'AUSPASS' - No data available.\n",
      "[2024-08-28 07:58:59,232] - obspy.clients.fdsn.mass_downloader - INFO: Total acquired or preexisting stations: 0\n",
      "[2024-08-28 07:58:59,233] - obspy.clients.fdsn.mass_downloader - INFO: Client 'BGR' - Requesting unreliable availability.\n",
      "[2024-08-28 07:58:59,607] - obspy.clients.fdsn.mass_downloader - INFO: Client 'BGR' - No data available for request.\n",
      "[2024-08-28 07:58:59,608] - obspy.clients.fdsn.mass_downloader - INFO: Client 'BGR' - No data available.\n",
      "[2024-08-28 07:58:59,608] - obspy.clients.fdsn.mass_downloader - INFO: Total acquired or preexisting stations: 0\n",
      "[2024-08-28 07:58:59,609] - obspy.clients.fdsn.mass_downloader - INFO: Client 'EIDA' - Requesting unreliable availability.\n",
      "[2024-08-28 08:00:59,799] - obspy.clients.fdsn.mass_downloader - ERROR: Client 'EIDA' - Failed getting availability due to unexpected exception: 'TimeoutError' object has no attribute 'splitlines'\n",
      "[2024-08-28 08:00:59,800] - obspy.clients.fdsn.mass_downloader - INFO: Client 'EIDA' - No data available.\n",
      "[2024-08-28 08:00:59,800] - obspy.clients.fdsn.mass_downloader - INFO: Total acquired or preexisting stations: 0\n",
      "[2024-08-28 08:00:59,801] - obspy.clients.fdsn.mass_downloader - INFO: Client 'ETH' - Requesting unreliable availability.\n",
      "[2024-08-28 08:01:00,266] - obspy.clients.fdsn.mass_downloader - INFO: Client 'ETH' - No data available for request.\n",
      "[2024-08-28 08:01:00,267] - obspy.clients.fdsn.mass_downloader - INFO: Client 'ETH' - No data available.\n",
      "[2024-08-28 08:01:00,268] - obspy.clients.fdsn.mass_downloader - INFO: Total acquired or preexisting stations: 0\n",
      "[2024-08-28 08:01:00,269] - obspy.clients.fdsn.mass_downloader - INFO: Client 'GEOFON' - Requesting unreliable availability.\n",
      "[2024-08-28 08:01:02,064] - obspy.clients.fdsn.mass_downloader - INFO: Client 'GEOFON' - No data available for request.\n",
      "[2024-08-28 08:01:02,065] - obspy.clients.fdsn.mass_downloader - INFO: Client 'GEOFON' - No data available.\n",
      "[2024-08-28 08:01:02,065] - obspy.clients.fdsn.mass_downloader - INFO: Total acquired or preexisting stations: 0\n",
      "[2024-08-28 08:01:02,066] - obspy.clients.fdsn.mass_downloader - INFO: Client 'GEONET' - Requesting unreliable availability.\n",
      "[2024-08-28 08:01:02,587] - obspy.clients.fdsn.mass_downloader - INFO: Client 'GEONET' - No data available for request.\n",
      "[2024-08-28 08:01:02,588] - obspy.clients.fdsn.mass_downloader - INFO: Client 'GEONET' - No data available.\n",
      "[2024-08-28 08:01:02,590] - obspy.clients.fdsn.mass_downloader - INFO: Total acquired or preexisting stations: 0\n",
      "[2024-08-28 08:01:02,592] - obspy.clients.fdsn.mass_downloader - INFO: Client 'GFZ' - Requesting unreliable availability.\n",
      "[2024-08-28 08:01:03,746] - obspy.clients.fdsn.mass_downloader - INFO: Client 'GFZ' - No data available for request.\n",
      "[2024-08-28 08:01:03,747] - obspy.clients.fdsn.mass_downloader - INFO: Client 'GFZ' - No data available.\n",
      "[2024-08-28 08:01:03,748] - obspy.clients.fdsn.mass_downloader - INFO: Total acquired or preexisting stations: 0\n",
      "[2024-08-28 08:01:03,749] - obspy.clients.fdsn.mass_downloader - INFO: Client 'ICGC' - Requesting unreliable availability.\n",
      "[2024-08-28 08:01:04,165] - obspy.clients.fdsn.mass_downloader - INFO: Client 'ICGC' - No data available for request.\n",
      "[2024-08-28 08:01:04,165] - obspy.clients.fdsn.mass_downloader - INFO: Client 'ICGC' - No data available.\n",
      "[2024-08-28 08:01:04,166] - obspy.clients.fdsn.mass_downloader - INFO: Total acquired or preexisting stations: 0\n",
      "[2024-08-28 08:01:04,167] - obspy.clients.fdsn.mass_downloader - INFO: Client 'IESDMC' - Requesting reliable availability.\n",
      "[2024-08-28 08:01:04,517] - obspy.clients.fdsn.mass_downloader - INFO: Client 'IESDMC' - No data available for request.\n",
      "[2024-08-28 08:01:04,518] - obspy.clients.fdsn.mass_downloader - INFO: Client 'IESDMC' - No data available.\n",
      "[2024-08-28 08:01:04,519] - obspy.clients.fdsn.mass_downloader - INFO: Total acquired or preexisting stations: 0\n",
      "[2024-08-28 08:01:04,520] - obspy.clients.fdsn.mass_downloader - INFO: Client 'INGV' - Requesting unreliable availability.\n",
      "[2024-08-28 08:01:10,595] - obspy.clients.fdsn.mass_downloader - INFO: Client 'INGV' - No data available for request.\n",
      "[2024-08-28 08:01:10,595] - obspy.clients.fdsn.mass_downloader - INFO: Client 'INGV' - No data available.\n",
      "[2024-08-28 08:01:10,596] - obspy.clients.fdsn.mass_downloader - INFO: Total acquired or preexisting stations: 0\n",
      "[2024-08-28 08:01:10,597] - obspy.clients.fdsn.mass_downloader - INFO: Client 'IPGP' - Requesting unreliable availability.\n",
      "[2024-08-28 08:01:10,948] - obspy.clients.fdsn.mass_downloader - INFO: Client 'IPGP' - No data available for request.\n",
      "[2024-08-28 08:01:10,949] - obspy.clients.fdsn.mass_downloader - INFO: Client 'IPGP' - No data available.\n",
      "[2024-08-28 08:01:10,950] - obspy.clients.fdsn.mass_downloader - INFO: Total acquired or preexisting stations: 0\n",
      "[2024-08-28 08:01:10,951] - obspy.clients.fdsn.mass_downloader - INFO: Client 'KNMI' - Requesting unreliable availability.\n",
      "[2024-08-28 08:01:11,453] - obspy.clients.fdsn.mass_downloader - INFO: Client 'KNMI' - No data available for request.\n",
      "[2024-08-28 08:01:11,454] - obspy.clients.fdsn.mass_downloader - INFO: Client 'KNMI' - No data available.\n",
      "[2024-08-28 08:01:11,454] - obspy.clients.fdsn.mass_downloader - INFO: Total acquired or preexisting stations: 0\n",
      "[2024-08-28 08:01:11,455] - obspy.clients.fdsn.mass_downloader - INFO: Client 'KOERI' - Requesting unreliable availability.\n",
      "[2024-08-28 08:01:11,926] - obspy.clients.fdsn.mass_downloader - INFO: Client 'KOERI' - No data available for request.\n",
      "[2024-08-28 08:01:11,927] - obspy.clients.fdsn.mass_downloader - INFO: Client 'KOERI' - No data available.\n",
      "[2024-08-28 08:01:11,927] - obspy.clients.fdsn.mass_downloader - INFO: Total acquired or preexisting stations: 0\n",
      "[2024-08-28 08:01:11,928] - obspy.clients.fdsn.mass_downloader - INFO: Client 'LMU' - Requesting unreliable availability.\n",
      "[2024-08-28 08:01:12,510] - obspy.clients.fdsn.mass_downloader - INFO: Client 'LMU' - No data available for request.\n",
      "[2024-08-28 08:01:12,511] - obspy.clients.fdsn.mass_downloader - INFO: Client 'LMU' - No data available.\n",
      "[2024-08-28 08:01:12,511] - obspy.clients.fdsn.mass_downloader - INFO: Total acquired or preexisting stations: 0\n",
      "[2024-08-28 08:01:12,512] - obspy.clients.fdsn.mass_downloader - INFO: Client 'NCEDC' - Requesting unreliable availability.\n",
      "[2024-08-28 08:01:39,438] - obspy.clients.fdsn.mass_downloader - INFO: Client 'NCEDC' - No data available for request.\n",
      "[2024-08-28 08:01:39,439] - obspy.clients.fdsn.mass_downloader - INFO: Client 'NCEDC' - No data available.\n",
      "[2024-08-28 08:01:39,440] - obspy.clients.fdsn.mass_downloader - INFO: Total acquired or preexisting stations: 0\n",
      "[2024-08-28 08:01:39,441] - obspy.clients.fdsn.mass_downloader - INFO: Client 'NIEP' - Requesting unreliable availability.\n",
      "[2024-08-28 08:01:40,527] - obspy.clients.fdsn.mass_downloader - INFO: Client 'NIEP' - No data available for request.\n",
      "[2024-08-28 08:01:40,528] - obspy.clients.fdsn.mass_downloader - INFO: Client 'NIEP' - No data available.\n",
      "[2024-08-28 08:01:40,528] - obspy.clients.fdsn.mass_downloader - INFO: Total acquired or preexisting stations: 0\n",
      "[2024-08-28 08:01:40,529] - obspy.clients.fdsn.mass_downloader - INFO: Client 'NOA' - Requesting unreliable availability.\n",
      "[2024-08-28 08:01:41,007] - obspy.clients.fdsn.mass_downloader - INFO: Client 'NOA' - No data available for request.\n",
      "[2024-08-28 08:01:41,008] - obspy.clients.fdsn.mass_downloader - INFO: Client 'NOA' - No data available.\n",
      "[2024-08-28 08:01:41,009] - obspy.clients.fdsn.mass_downloader - INFO: Total acquired or preexisting stations: 0\n",
      "[2024-08-28 08:01:41,010] - obspy.clients.fdsn.mass_downloader - INFO: Client 'RESIF' - Requesting reliable availability.\n",
      "[2024-08-28 08:01:42,133] - obspy.clients.fdsn.mass_downloader - INFO: Client 'RESIF' - No data available for request.\n",
      "[2024-08-28 08:01:42,134] - obspy.clients.fdsn.mass_downloader - INFO: Client 'RESIF' - No data available.\n",
      "[2024-08-28 08:01:42,135] - obspy.clients.fdsn.mass_downloader - INFO: Total acquired or preexisting stations: 0\n",
      "[2024-08-28 08:01:42,136] - obspy.clients.fdsn.mass_downloader - INFO: Client 'SCEDC' - Requesting unreliable availability.\n",
      "[2024-08-28 08:02:03,946] - obspy.clients.fdsn.mass_downloader - INFO: Client 'SCEDC' - No data available for request.\n",
      "[2024-08-28 08:02:03,947] - obspy.clients.fdsn.mass_downloader - INFO: Client 'SCEDC' - No data available.\n",
      "[2024-08-28 08:02:03,948] - obspy.clients.fdsn.mass_downloader - INFO: Total acquired or preexisting stations: 0\n",
      "[2024-08-28 08:02:03,949] - obspy.clients.fdsn.mass_downloader - INFO: Client 'UIB-NORSAR' - Requesting reliable availability.\n",
      "[2024-08-28 08:02:04,355] - obspy.clients.fdsn.mass_downloader - INFO: Client 'UIB-NORSAR' - No data available for request.\n",
      "[2024-08-28 08:02:04,356] - obspy.clients.fdsn.mass_downloader - INFO: Client 'UIB-NORSAR' - No data available.\n",
      "[2024-08-28 08:02:04,357] - obspy.clients.fdsn.mass_downloader - INFO: Total acquired or preexisting stations: 0\n",
      "[2024-08-28 08:02:04,358] - obspy.clients.fdsn.mass_downloader - INFO: Client 'USP' - Requesting unreliable availability.\n",
      "[2024-08-28 08:02:05,997] - obspy.clients.fdsn.mass_downloader - INFO: Client 'USP' - No data available for request.\n",
      "[2024-08-28 08:02:05,998] - obspy.clients.fdsn.mass_downloader - INFO: Client 'USP' - No data available.\n",
      "[2024-08-28 08:02:05,999] - obspy.clients.fdsn.mass_downloader - INFO: Total acquired or preexisting stations: 0\n",
      "[2024-08-28 08:02:06,000] - obspy.clients.fdsn.mass_downloader - INFO: Client 'ORFEUS' - Requesting unreliable availability.\n",
      "[2024-08-28 08:02:06,436] - obspy.clients.fdsn.mass_downloader - INFO: Client 'ORFEUS' - No data available for request.\n",
      "[2024-08-28 08:02:06,437] - obspy.clients.fdsn.mass_downloader - INFO: Client 'ORFEUS' - No data available.\n",
      "[2024-08-28 08:02:06,437] - obspy.clients.fdsn.mass_downloader - INFO: Total acquired or preexisting stations: 0\n",
      "[2024-08-28 08:02:06,438] - obspy.clients.fdsn.mass_downloader - INFO: Client 'IRIS' - Requesting reliable availability.\n",
      "[2024-08-28 08:02:07,627] - obspy.clients.fdsn.mass_downloader - INFO: Client 'IRIS' - Successfully requested availability (1.19 seconds)\n",
      "[2024-08-28 08:02:07,640] - obspy.clients.fdsn.mass_downloader - INFO: Client 'IRIS' - Found 3 stations (6 channels).\n",
      "[2024-08-28 08:02:07,649] - obspy.clients.fdsn.mass_downloader - INFO: Client 'IRIS' - Will attempt to download data from 3 stations.\n",
      "[2024-08-28 08:02:07,650] - obspy.clients.fdsn.mass_downloader - INFO: Client 'IRIS' - Status for 6 time intervals/channels before downloading: NEEDS_DOWNLOADING\n",
      "[2024-08-28 08:02:08,681] - obspy.clients.fdsn.mass_downloader - INFO: Client 'IRIS' - Successfully downloaded 6 channels (of 6)\n",
      "[2024-08-28 08:02:08,682] - obspy.clients.fdsn.mass_downloader - INFO: Client 'IRIS' - Launching basic QC checks...\n",
      "[2024-08-28 08:02:08,708] - obspy.clients.fdsn.mass_downloader - INFO: Client 'IRIS' - Downloaded 0.1 MB [56.80 KB/sec] of data, 0.0 MB of which were discarded afterwards.\n",
      "[2024-08-28 08:02:08,709] - obspy.clients.fdsn.mass_downloader - INFO: Client 'IRIS' - Status for 6 time intervals/channels after downloading: DOWNLOADED\n",
      "[2024-08-28 08:02:08,880] - obspy.clients.fdsn.mass_downloader - INFO: Client 'IRIS' - Successfully downloaded 'stations/IM.TKL.xml'.\n",
      "[2024-08-28 08:02:08,893] - obspy.clients.fdsn.mass_downloader - INFO: Client 'IRIS' - Successfully downloaded 'stations/N4.T50A.xml'.\n",
      "[2024-08-28 08:02:08,895] - obspy.clients.fdsn.mass_downloader - INFO: Client 'IRIS' - Successfully downloaded 'stations/US.TZTN.xml'.\n",
      "[2024-08-28 08:02:08,902] - obspy.clients.fdsn.mass_downloader - INFO: Client 'IRIS' - Downloaded 3 station files [0.1 MB] in 0.2 seconds [307.12 KB/sec].\n",
      "[2024-08-28 08:02:08,903] - obspy.clients.fdsn.mass_downloader - INFO: ============================== Final report\n",
      "[2024-08-28 08:02:08,904] - obspy.clients.fdsn.mass_downloader - INFO: 0 MiniSEED files [0.0 MB] already existed.\n",
      "[2024-08-28 08:02:08,905] - obspy.clients.fdsn.mass_downloader - INFO: 0 StationXML files [0.0 MB] already existed.\n",
      "[2024-08-28 08:02:08,905] - obspy.clients.fdsn.mass_downloader - INFO: Client 'AUSPASS' - Acquired 0 MiniSEED files [0.0 MB].\n",
      "[2024-08-28 08:02:08,906] - obspy.clients.fdsn.mass_downloader - INFO: Client 'AUSPASS' - Acquired 0 StationXML files [0.0 MB].\n",
      "[2024-08-28 08:02:08,907] - obspy.clients.fdsn.mass_downloader - INFO: Client 'BGR' - Acquired 0 MiniSEED files [0.0 MB].\n",
      "[2024-08-28 08:02:08,908] - obspy.clients.fdsn.mass_downloader - INFO: Client 'BGR' - Acquired 0 StationXML files [0.0 MB].\n",
      "[2024-08-28 08:02:08,908] - obspy.clients.fdsn.mass_downloader - INFO: Client 'EIDA' - Acquired 0 MiniSEED files [0.0 MB].\n",
      "[2024-08-28 08:02:08,909] - obspy.clients.fdsn.mass_downloader - INFO: Client 'EIDA' - Acquired 0 StationXML files [0.0 MB].\n",
      "[2024-08-28 08:02:08,909] - obspy.clients.fdsn.mass_downloader - INFO: Client 'ETH' - Acquired 0 MiniSEED files [0.0 MB].\n",
      "[2024-08-28 08:02:08,910] - obspy.clients.fdsn.mass_downloader - INFO: Client 'ETH' - Acquired 0 StationXML files [0.0 MB].\n",
      "[2024-08-28 08:02:08,911] - obspy.clients.fdsn.mass_downloader - INFO: Client 'GEOFON' - Acquired 0 MiniSEED files [0.0 MB].\n",
      "[2024-08-28 08:02:08,912] - obspy.clients.fdsn.mass_downloader - INFO: Client 'GEOFON' - Acquired 0 StationXML files [0.0 MB].\n",
      "[2024-08-28 08:02:08,912] - obspy.clients.fdsn.mass_downloader - INFO: Client 'GEONET' - Acquired 0 MiniSEED files [0.0 MB].\n",
      "[2024-08-28 08:02:08,913] - obspy.clients.fdsn.mass_downloader - INFO: Client 'GEONET' - Acquired 0 StationXML files [0.0 MB].\n",
      "[2024-08-28 08:02:08,914] - obspy.clients.fdsn.mass_downloader - INFO: Client 'GFZ' - Acquired 0 MiniSEED files [0.0 MB].\n",
      "[2024-08-28 08:02:08,915] - obspy.clients.fdsn.mass_downloader - INFO: Client 'GFZ' - Acquired 0 StationXML files [0.0 MB].\n",
      "[2024-08-28 08:02:08,915] - obspy.clients.fdsn.mass_downloader - INFO: Client 'ICGC' - Acquired 0 MiniSEED files [0.0 MB].\n",
      "[2024-08-28 08:02:08,916] - obspy.clients.fdsn.mass_downloader - INFO: Client 'ICGC' - Acquired 0 StationXML files [0.0 MB].\n",
      "[2024-08-28 08:02:08,917] - obspy.clients.fdsn.mass_downloader - INFO: Client 'IESDMC' - Acquired 0 MiniSEED files [0.0 MB].\n",
      "[2024-08-28 08:02:08,918] - obspy.clients.fdsn.mass_downloader - INFO: Client 'IESDMC' - Acquired 0 StationXML files [0.0 MB].\n",
      "[2024-08-28 08:02:08,918] - obspy.clients.fdsn.mass_downloader - INFO: Client 'INGV' - Acquired 0 MiniSEED files [0.0 MB].\n",
      "[2024-08-28 08:02:08,919] - obspy.clients.fdsn.mass_downloader - INFO: Client 'INGV' - Acquired 0 StationXML files [0.0 MB].\n",
      "[2024-08-28 08:02:08,920] - obspy.clients.fdsn.mass_downloader - INFO: Client 'IPGP' - Acquired 0 MiniSEED files [0.0 MB].\n",
      "[2024-08-28 08:02:08,920] - obspy.clients.fdsn.mass_downloader - INFO: Client 'IPGP' - Acquired 0 StationXML files [0.0 MB].\n",
      "[2024-08-28 08:02:08,921] - obspy.clients.fdsn.mass_downloader - INFO: Client 'KNMI' - Acquired 0 MiniSEED files [0.0 MB].\n",
      "[2024-08-28 08:02:08,922] - obspy.clients.fdsn.mass_downloader - INFO: Client 'KNMI' - Acquired 0 StationXML files [0.0 MB].\n",
      "[2024-08-28 08:02:08,922] - obspy.clients.fdsn.mass_downloader - INFO: Client 'KOERI' - Acquired 0 MiniSEED files [0.0 MB].\n",
      "[2024-08-28 08:02:08,923] - obspy.clients.fdsn.mass_downloader - INFO: Client 'KOERI' - Acquired 0 StationXML files [0.0 MB].\n",
      "[2024-08-28 08:02:08,924] - obspy.clients.fdsn.mass_downloader - INFO: Client 'LMU' - Acquired 0 MiniSEED files [0.0 MB].\n",
      "[2024-08-28 08:02:08,925] - obspy.clients.fdsn.mass_downloader - INFO: Client 'LMU' - Acquired 0 StationXML files [0.0 MB].\n",
      "[2024-08-28 08:02:08,925] - obspy.clients.fdsn.mass_downloader - INFO: Client 'NCEDC' - Acquired 0 MiniSEED files [0.0 MB].\n",
      "[2024-08-28 08:02:08,926] - obspy.clients.fdsn.mass_downloader - INFO: Client 'NCEDC' - Acquired 0 StationXML files [0.0 MB].\n",
      "[2024-08-28 08:02:08,926] - obspy.clients.fdsn.mass_downloader - INFO: Client 'NIEP' - Acquired 0 MiniSEED files [0.0 MB].\n",
      "[2024-08-28 08:02:08,927] - obspy.clients.fdsn.mass_downloader - INFO: Client 'NIEP' - Acquired 0 StationXML files [0.0 MB].\n",
      "[2024-08-28 08:02:08,928] - obspy.clients.fdsn.mass_downloader - INFO: Client 'NOA' - Acquired 0 MiniSEED files [0.0 MB].\n",
      "[2024-08-28 08:02:08,928] - obspy.clients.fdsn.mass_downloader - INFO: Client 'NOA' - Acquired 0 StationXML files [0.0 MB].\n",
      "[2024-08-28 08:02:08,929] - obspy.clients.fdsn.mass_downloader - INFO: Client 'RESIF' - Acquired 0 MiniSEED files [0.0 MB].\n",
      "[2024-08-28 08:02:08,929] - obspy.clients.fdsn.mass_downloader - INFO: Client 'RESIF' - Acquired 0 StationXML files [0.0 MB].\n",
      "[2024-08-28 08:02:08,930] - obspy.clients.fdsn.mass_downloader - INFO: Client 'SCEDC' - Acquired 0 MiniSEED files [0.0 MB].\n",
      "[2024-08-28 08:02:08,931] - obspy.clients.fdsn.mass_downloader - INFO: Client 'SCEDC' - Acquired 0 StationXML files [0.0 MB].\n",
      "[2024-08-28 08:02:08,931] - obspy.clients.fdsn.mass_downloader - INFO: Client 'UIB-NORSAR' - Acquired 0 MiniSEED files [0.0 MB].\n",
      "[2024-08-28 08:02:08,932] - obspy.clients.fdsn.mass_downloader - INFO: Client 'UIB-NORSAR' - Acquired 0 StationXML files [0.0 MB].\n",
      "[2024-08-28 08:02:08,933] - obspy.clients.fdsn.mass_downloader - INFO: Client 'USP' - Acquired 0 MiniSEED files [0.0 MB].\n",
      "[2024-08-28 08:02:08,933] - obspy.clients.fdsn.mass_downloader - INFO: Client 'USP' - Acquired 0 StationXML files [0.0 MB].\n",
      "[2024-08-28 08:02:08,934] - obspy.clients.fdsn.mass_downloader - INFO: Client 'ORFEUS' - Acquired 0 MiniSEED files [0.0 MB].\n",
      "[2024-08-28 08:02:08,934] - obspy.clients.fdsn.mass_downloader - INFO: Client 'ORFEUS' - Acquired 0 StationXML files [0.0 MB].\n",
      "[2024-08-28 08:02:08,937] - obspy.clients.fdsn.mass_downloader - INFO: Client 'IRIS' - Acquired 6 MiniSEED files [0.1 MB].\n",
      "[2024-08-28 08:02:08,938] - obspy.clients.fdsn.mass_downloader - INFO: Client 'IRIS' - Acquired 3 StationXML files [0.1 MB].\n",
      "[2024-08-28 08:02:08,938] - obspy.clients.fdsn.mass_downloader - INFO: Downloaded 0.1 MB in total.\n"
     ]
    },
    {
     "data": {
      "text/plain": [
       "{'AUSPASS': <obspy.clients.fdsn.mass_downloader.download_helpers.ClientDownloadHelper at 0x10a8d25d0>,\n",
       " 'BGR': <obspy.clients.fdsn.mass_downloader.download_helpers.ClientDownloadHelper at 0x10a699f50>,\n",
       " 'EIDA': <obspy.clients.fdsn.mass_downloader.download_helpers.ClientDownloadHelper at 0x10a8f4b90>,\n",
       " 'ETH': <obspy.clients.fdsn.mass_downloader.download_helpers.ClientDownloadHelper at 0x10a7dbf10>,\n",
       " 'GEOFON': <obspy.clients.fdsn.mass_downloader.download_helpers.ClientDownloadHelper at 0x10a98d050>,\n",
       " 'GEONET': <obspy.clients.fdsn.mass_downloader.download_helpers.ClientDownloadHelper at 0x1066efb90>,\n",
       " 'GFZ': <obspy.clients.fdsn.mass_downloader.download_helpers.ClientDownloadHelper at 0x108ef7750>,\n",
       " 'ICGC': <obspy.clients.fdsn.mass_downloader.download_helpers.ClientDownloadHelper at 0x10a87a550>,\n",
       " 'IESDMC': <obspy.clients.fdsn.mass_downloader.download_helpers.ClientDownloadHelper at 0x107fbeb90>,\n",
       " 'INGV': <obspy.clients.fdsn.mass_downloader.download_helpers.ClientDownloadHelper at 0x10a732990>,\n",
       " 'IPGP': <obspy.clients.fdsn.mass_downloader.download_helpers.ClientDownloadHelper at 0x10a8b7b90>,\n",
       " 'KNMI': <obspy.clients.fdsn.mass_downloader.download_helpers.ClientDownloadHelper at 0x106c73490>,\n",
       " 'KOERI': <obspy.clients.fdsn.mass_downloader.download_helpers.ClientDownloadHelper at 0x109aa81d0>,\n",
       " 'LMU': <obspy.clients.fdsn.mass_downloader.download_helpers.ClientDownloadHelper at 0x10a7af090>,\n",
       " 'NCEDC': <obspy.clients.fdsn.mass_downloader.download_helpers.ClientDownloadHelper at 0x106c32950>,\n",
       " 'NIEP': <obspy.clients.fdsn.mass_downloader.download_helpers.ClientDownloadHelper at 0x10a890610>,\n",
       " 'NOA': <obspy.clients.fdsn.mass_downloader.download_helpers.ClientDownloadHelper at 0x10a8fa290>,\n",
       " 'RESIF': <obspy.clients.fdsn.mass_downloader.download_helpers.ClientDownloadHelper at 0x109a79910>,\n",
       " 'SCEDC': <obspy.clients.fdsn.mass_downloader.download_helpers.ClientDownloadHelper at 0x10a86cd10>,\n",
       " 'UIB-NORSAR': <obspy.clients.fdsn.mass_downloader.download_helpers.ClientDownloadHelper at 0x10a7c16d0>,\n",
       " 'USP': <obspy.clients.fdsn.mass_downloader.download_helpers.ClientDownloadHelper at 0x108f46710>,\n",
       " 'ORFEUS': <obspy.clients.fdsn.mass_downloader.download_helpers.ClientDownloadHelper at 0x10a8415d0>,\n",
       " 'IRIS': <obspy.clients.fdsn.mass_downloader.download_helpers.ClientDownloadHelper at 0x10a830050>}"
      ]
     },
     "execution_count": 9,
     "metadata": {},
     "output_type": "execute_result"
    }
   ],
   "source": [
    "mdl = MassDownloader()\n",
    "mdl.download(domain,restrictions, mseed_storage=\"waveforms\", stationxml_storage=\"stations\")"
   ]
  },
  {
   "cell_type": "markdown",
   "metadata": {},
   "source": [
    "This code loops through each of the downloaded waveforms.  It removes the instrument response using a defined pre-filter and converts to displacement.  The maximum displacement is determined, along with the distance from the event to the station.  The local magnitude is calculated using the approximate emprical formula from Bullen and Bolt (1985).  The average magnitude for each station-channel is reported at the end."
   ]
  },
  {
   "cell_type": "code",
   "execution_count": 10,
   "metadata": {},
   "outputs": [
    {
     "name": "stdout",
     "output_type": "stream",
     "text": [
      "waveforms/N4.T50A.00.HH1__20200120T191201Z__20200120T191301Z.mseed stations/N4.T50A.xml\n",
      "displacement = 5.2845523235707486 , distance = 97.6787740409144 , local mag = 4.1468967147509606\n",
      "waveforms/US.TZTN.00.BH2__20200120T191201Z__20200120T191301Z.mseed stations/US.TZTN.xml\n",
      "displacement = 13.017583246232892 , distance = 44.62745650562326 , local mag = 3.667511830238496\n",
      "waveforms/IM.TKL..BHE__20200120T191201Z__20200120T191301Z.mseed stations/IM.TKL.xml\n",
      "displacement = 13.60724088833879 , distance = 88.69248944267055 , local mag = 4.45036039623072\n",
      "waveforms/N4.T50A.00.HH2__20200120T191201Z__20200120T191301Z.mseed stations/N4.T50A.xml\n",
      "displacement = 4.728445859199891 , distance = 97.6787740409144 , local mag = 4.098606933163199\n",
      "waveforms/IM.TKL..BHN__20200120T191201Z__20200120T191301Z.mseed stations/IM.TKL.xml\n",
      "displacement = 5.069890540653064 , distance = 88.69248944267055 , local mag = 4.021588906062301\n",
      "waveforms/US.TZTN.00.BH1__20200120T191201Z__20200120T191301Z.mseed stations/US.TZTN.xml\n",
      "displacement = 18.427791426644692 , distance = 44.62745650562326 , local mag = 3.818454754693228\n",
      "\n"
     ]
    }
   ],
   "source": [
    "filt = ( 0.5, 1, 40, 50 )\n",
    "ms = 0.0\n",
    "n = 0\n",
    "for file in os.listdir(\"waveforms\"):\n",
    "    wavfile = \"waveforms/\" + file\n",
    "    stafile = \"stations/\" + file.split(\".\")[0] + \".\" + file.split(\".\")[1] + \".xml\"\n",
    "    print (wavfile, stafile)\n",
    "    st = read(wavfile)\n",
    "    tr = st[0]\n",
    "    inv = read_inventory(stafile)\n",
    "    tr.remove_response(inventory=inv, pre_filt=filt, output=\"DISP\")\n",
    "    disp = abs( tr.max() * 1e6 ) # displacement in microns\n",
    "    stalat = inv.networks[0].stations[0].latitude\n",
    "    stalon = inv.networks[0].stations[0].longitude\n",
    "    evelat = cat[0].origins[0].latitude\n",
    "    evelon = cat[0].origins[0].longitude\n",
    "    dist = gps2dist_azimuth(stalat, stalon, evelat, evelon )[0] / 1000 # distance in kilometers\n",
    "    magl = log10(disp) + 2.56 * log10(dist) - 1.67\n",
    "    print(\"displacement =\",disp,\", distance =\",dist,\", local mag =\",magl)\n",
    "    ms += magl\n",
    "    n += 1\n",
    "print ()"
   ]
  },
  {
   "cell_type": "code",
   "execution_count": 11,
   "metadata": {},
   "outputs": [
    {
     "name": "stdout",
     "output_type": "stream",
     "text": [
      "local magnitude: 4.033903255856484\n"
     ]
    }
   ],
   "source": [
    "am = ms / n\n",
    "\n",
    "print(\"local magnitude: \" + str(am))"
   ]
  },
  {
   "cell_type": "code",
   "execution_count": null,
   "metadata": {},
   "outputs": [],
   "source": []
  }
 ],
 "metadata": {
  "kernelspec": {
   "display_name": "Python 3 (ipykernel)",
   "language": "python",
   "name": "python3"
  },
  "language_info": {
   "codemirror_mode": {
    "name": "ipython",
    "version": 3
   },
   "file_extension": ".py",
   "mimetype": "text/x-python",
   "name": "python",
   "nbconvert_exporter": "python",
   "pygments_lexer": "ipython3",
   "version": "3.11.7"
  }
 },
 "nbformat": 4,
 "nbformat_minor": 4
}
